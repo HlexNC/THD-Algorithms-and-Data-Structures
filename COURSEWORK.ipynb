{
 "cells": [
  {
   "cell_type": "markdown",
   "metadata": {},
   "source": [
    "# Deggendorf Institute of Technology <br> Algorithms and Data Structures Coursework"
   ]
  },
  {
   "cell_type": "markdown",
   "metadata": {},
   "source": [
    "- **Professor Patrick GLAUNER | 2024 Summer Term**"
   ]
  },
  {
   "cell_type": "markdown",
   "metadata": {},
   "source": [
    "#### 1. Introduction\n",
    "#### 2. Mandatory problem\n",
    "#### 3. Exam bonus problem\n",
    "#### 4. Programming language\n",
    "#### 5. Use of AI tools"
   ]
  },
  {
   "cell_type": "markdown",
   "metadata": {},
   "source": [
    "## 6. Python primer"
   ]
  },
  {
   "cell_type": "markdown",
   "metadata": {},
   "source": [
    "### Problem 6.1\n",
    "\n",
    "Familiarize yourself with Python using intro-to-python.py. Also familiarize yourself with a Python\n",
    "IDE such as PyCharm. Furthermore, try interactive programming using python -i or ipython\n",
    "\n",
    "- DONE"
   ]
  },
  {
   "cell_type": "markdown",
   "metadata": {},
   "source": [
    "### Problem 6.2\n",
    "Do exercises R-1.1 to R-1.11, C-1.13, C-1.24, C-1.25, C-1.28 and P-1.29 in Goodrich et al."
   ]
  },
  {
   "cell_type": "markdown",
   "metadata": {},
   "source": [
    "#### Reinforcement"
   ]
  },
  {
   "cell_type": "code",
   "execution_count": 20,
   "metadata": {},
   "outputs": [
    {
     "name": "stdout",
     "output_type": "stream",
     "text": [
      "True\n"
     ]
    }
   ],
   "source": [
    "#  R-1.1 Write a short Python function, is multiple(n, m), that takes two integer\n",
    "#  values and returns True if n is a multiple of m, that is,n = mi for some\n",
    "#  integer i,andFalse otherwise.\n",
    "\n",
    "def is_multiple(n, m):\n",
    "    return n % m == 0\n",
    "\n",
    "print(is_multiple(10, 2))"
   ]
  },
  {
   "cell_type": "code",
   "execution_count": 21,
   "metadata": {},
   "outputs": [
    {
     "name": "stdout",
     "output_type": "stream",
     "text": [
      "True\n"
     ]
    }
   ],
   "source": [
    "#  R-1.2 Write a short Python function, is even(k), that takes an integer value and\n",
    "#  returns True if k is even, and False otherwise. However, your function\n",
    "#  cannot use the multiplication, modulo, or division operators.\n",
    "\n",
    "def is_even(k):\n",
    "    return k & 1 == 0\n",
    "\n",
    "print(is_even(10))"
   ]
  },
  {
   "cell_type": "code",
   "execution_count": 22,
   "metadata": {},
   "outputs": [
    {
     "name": "stdout",
     "output_type": "stream",
     "text": [
      "(-2, 17)\n"
     ]
    }
   ],
   "source": [
    "#  R-1.3 Write a short Python function, minmax(data), that takes a sequence of\n",
    "#  one or more numbers, and returns the smallest and largest numbers, in the\n",
    "#  form of a tuple of length two. Do not use the built-in functions min or\n",
    "#  max in implementing your solution.\n",
    "\n",
    "def minmax(data):\n",
    "    min = max = data[0]\n",
    "    for i in data:\n",
    "        if i < min:\n",
    "            min = i\n",
    "        if i > max:\n",
    "            max = i\n",
    "    return (min, max)\n",
    "\n",
    "print(minmax([-2, 5, 17, 3, 9, 2]))"
   ]
  },
  {
   "cell_type": "code",
   "execution_count": 23,
   "metadata": {},
   "outputs": [
    {
     "name": "stdout",
     "output_type": "stream",
     "text": [
      "30\n"
     ]
    }
   ],
   "source": [
    "#  R-1.4 Write a short Python function that takes a positive integer n and returns\n",
    "#  the sum of the squares of all the positive integers smaller than n.\n",
    "\n",
    "def sum_of_squares(n):\n",
    "    sum = 0\n",
    "    for i in range(n):\n",
    "        sum += i**2\n",
    "    return sum\n",
    "\n",
    "print(sum_of_squares(5))"
   ]
  },
  {
   "cell_type": "code",
   "execution_count": 24,
   "metadata": {},
   "outputs": [
    {
     "name": "stdout",
     "output_type": "stream",
     "text": [
      "30\n"
     ]
    }
   ],
   "source": [
    "# R-1.5 Give a single command that computes the sum from Exercise R-1.4, rely\n",
    "# ing on Python’s comprehension syntax and the built-in sum function.\n",
    "\n",
    "def sum_of_squares(n):\n",
    "    return sum([i ** 2 for i in range(n)])\n",
    "\n",
    "print(sum_of_squares(5))"
   ]
  },
  {
   "cell_type": "code",
   "execution_count": 25,
   "metadata": {},
   "outputs": [
    {
     "name": "stdout",
     "output_type": "stream",
     "text": [
      "10\n"
     ]
    }
   ],
   "source": [
    "#  R-1.6 Write a short Python function that takes a positive integer n and returns\n",
    "#  the sum of the squares of all the odd positive integers smaller than n.\n",
    "\n",
    "def sum_of_squares(n):\n",
    "    sum = 0\n",
    "    for i in range(n):\n",
    "        if i % 2 != 0:\n",
    "            sum += i**2\n",
    "    return sum\n",
    "\n",
    "print(sum_of_squares(5))"
   ]
  },
  {
   "cell_type": "code",
   "execution_count": 26,
   "metadata": {},
   "outputs": [
    {
     "name": "stdout",
     "output_type": "stream",
     "text": [
      "10\n"
     ]
    }
   ],
   "source": [
    "# R-1.7 Give a single command that computes the sum from Exercise R-1.6, rely\n",
    "# ing on Python’s comprehension syntax and the built-in sum function.\n",
    "\n",
    "def sum_of_squares(n):\n",
    "    return sum([i ** 2 for i in range(n) if i % 2 != 0])\n",
    "\n",
    "print(sum_of_squares(5))"
   ]
  },
  {
   "cell_type": "code",
   "execution_count": 27,
   "metadata": {},
   "outputs": [],
   "source": [
    "# R-1.8 Python allows negative integers to be used as indices into a sequence,\n",
    "# such as a string. If string s has length n, and expression s[k] is used for\n",
    "# index −n <= k <= 0, what is the equivalent index j >= 0 such that s[j] references\n",
    "# the same element?\n",
    "\n",
    "# j = n + k (where k is negative)"
   ]
  },
  {
   "cell_type": "code",
   "execution_count": 28,
   "metadata": {},
   "outputs": [
    {
     "name": "stdout",
     "output_type": "stream",
     "text": [
      "[50, 60, 70, 80]\n"
     ]
    }
   ],
   "source": [
    "# What parameters should be sent to the range constructor, to produce a\n",
    "# range with values 50, 60, 70, 80?\n",
    "\n",
    "print(list(range(50, 90, 10)))"
   ]
  },
  {
   "cell_type": "code",
   "execution_count": 29,
   "metadata": {},
   "outputs": [
    {
     "name": "stdout",
     "output_type": "stream",
     "text": [
      "[8, 6, 4, 2, 0, -2, -4, -6, -8]\n"
     ]
    }
   ],
   "source": [
    "# What parameters should be sent to the range constructor, to produce a\n",
    "# range with values 8, 6, 4, 2, 0, −2, −4, −6, −8?\n",
    "\n",
    "print(list(range(8, -10, -2)))"
   ]
  },
  {
   "cell_type": "code",
   "execution_count": 30,
   "metadata": {},
   "outputs": [
    {
     "name": "stdout",
     "output_type": "stream",
     "text": [
      "[1, 2, 4, 8, 16, 32, 64, 128, 256]\n"
     ]
    }
   ],
   "source": [
    "# Demonstrate how to use Python’s list comprehension syntax to produce\n",
    "# the list [1, 2, 4, 8, 16, 32, 64, 128, 256].\n",
    "\n",
    "print([2 ** i for i in range(9)])"
   ]
  },
  {
   "cell_type": "markdown",
   "metadata": {},
   "source": [
    "#### Creativity"
   ]
  },
  {
   "cell_type": "code",
   "execution_count": null,
   "metadata": {},
   "outputs": [],
   "source": [
    "#  C-1.13 Write a pseudo-code description of a function that reverses a list of n\n",
    "#  integers, so that the numbers are listed in the opposite order than they\n",
    "#  were before, and compare this method to an equivalent Python function\n",
    "#  for doing the same thing. "
   ]
  },
  {
   "cell_type": "markdown",
   "metadata": {},
   "source": [
    "```txt\n",
    "FUNCTION reverse_list(L):\n",
    "    n = LENGTH(L)\n",
    "    FOR i FROM 0 TO (n // 2) - 1:\n",
    "        TEMP = L[i]\n",
    "        L[i] = L[n - i - 1]\n",
    "        L[n - i - 1] = TEMP\n",
    "    END FOR\n",
    "    RETURN L\n",
    "END FUNCTION\n",
    "```"
   ]
  },
  {
   "cell_type": "code",
   "execution_count": 31,
   "metadata": {},
   "outputs": [
    {
     "name": "stdout",
     "output_type": "stream",
     "text": [
      "[5, 4, 3, 2, 1]\n"
     ]
    }
   ],
   "source": [
    "def reverse_list(L):\n",
    "    n = len(L)\n",
    "    for i in range(n // 2):\n",
    "        temp = L[i]\n",
    "        L[i] = L[n - i - 1]\n",
    "        L[n - i - 1] = temp\n",
    "    return L\n",
    "\n",
    "print(reverse_list([1, 2, 3, 4, 5]))"
   ]
  },
  {
   "cell_type": "code",
   "execution_count": 32,
   "metadata": {},
   "outputs": [
    {
     "name": "stdout",
     "output_type": "stream",
     "text": [
      "2\n"
     ]
    }
   ],
   "source": [
    "#  C-1.24 Write a short Python function that counts the number of vowels in a given\n",
    "#  character string.\n",
    "\n",
    "def count_vowels(s):\n",
    "    return sum([1 for i in s if i in 'aeiou'])\n",
    "\n",
    "print(count_vowels('hello'))"
   ]
  },
  {
   "cell_type": "code",
   "execution_count": 38,
   "metadata": {},
   "outputs": [
    {
     "name": "stdout",
     "output_type": "stream",
     "text": [
      "Lets try Mike\n"
     ]
    }
   ],
   "source": [
    "#  C-1.25 Write a short Python function that takes a string s, representing a sentence,\n",
    "#  and returns a copy of the string with all punctuation removed. For exam\n",
    "#  ple, if given the string \"Let's try, Mike.\", this function would return\n",
    "#  \"Lets try Mike\".\n",
    "\n",
    "def remove_punctuation(s):\n",
    "    return ''.join([i for i in s if i not in '.,?!\\'\\\";:'])\n",
    "\n",
    "print(remove_punctuation(\"Let's try, Mike.\"))"
   ]
  },
  {
   "cell_type": "code",
   "execution_count": 40,
   "metadata": {},
   "outputs": [
    {
     "name": "stdout",
     "output_type": "stream",
     "text": [
      "5.0\n",
      "9.35609523735209\n"
     ]
    }
   ],
   "source": [
    "#  C-1.28 The p-norm of a vector v =(v1,v2,...,vn) in n-dimensional space.\n",
    "#  For the special case of p = 2, this results in the traditional Euclidean\n",
    "#  norm, which represents the length of the vector. For example, the Eu\n",
    "#  clidean norm of a two-dimensional vector with coordinates (4,3) has a\n",
    "#  Euclidean norm of √42+32 = √16+9=√25=5. Give an implemen\n",
    "#  tation of a function named norm such that norm(v, p) returns the p-norm\n",
    "#  value of v and norm(v) returns the Euclidean norm of v. You may assume\n",
    "#  that v is a list of numbers.\n",
    "\n",
    "def norm(v, p=2):\n",
    "    return sum([i ** p for i in v]) ** (1/p)\n",
    "\n",
    "print(norm([4, 3])) # Euclidean norm\n",
    "print(norm([4, 3, 6, 8], 3)) # p-norm"
   ]
  },
  {
   "cell_type": "markdown",
   "metadata": {},
   "source": [
    "#### Projects"
   ]
  },
  {
   "cell_type": "code",
   "execution_count": 41,
   "metadata": {},
   "outputs": [
    {
     "name": "stdout",
     "output_type": "stream",
     "text": [
      "['catdog', 'catdgo', 'catodg', 'catogd', 'catgdo', 'catgod', 'cadtog', 'cadtgo', 'cadotg', 'cadogt', 'cadgto', 'cadgot', 'caotdg', 'caotgd', 'caodtg', 'caodgt', 'caogtd', 'caogdt', 'cagtdo', 'cagtod', 'cagdto', 'cagdot', 'cagotd', 'cagodt', 'ctadog', 'ctadgo', 'ctaodg', 'ctaogd', 'ctagdo', 'ctagod', 'ctdaog', 'ctdago', 'ctdoag', 'ctdoga', 'ctdgao', 'ctdgoa', 'ctoadg', 'ctoagd', 'ctodag', 'ctodga', 'ctogad', 'ctogda', 'ctgado', 'ctgaod', 'ctgdao', 'ctgdoa', 'ctgoad', 'ctgoda', 'cdatog', 'cdatgo', 'cdaotg', 'cdaogt', 'cdagto', 'cdagot', 'cdtaog', 'cdtago', 'cdtoag', 'cdtoga', 'cdtgao', 'cdtgoa', 'cdoatg', 'cdoagt', 'cdotag', 'cdotga', 'cdogat', 'cdogta', 'cdgato', 'cdgaot', 'cdgtao', 'cdgtoa', 'cdgoat', 'cdgota', 'coatdg', 'coatgd', 'coadtg', 'coadgt', 'coagtd', 'coagdt', 'cotadg', 'cotagd', 'cotdag', 'cotdga', 'cotgad', 'cotgda', 'codatg', 'codagt', 'codtag', 'codtga', 'codgat', 'codgta', 'cogatd', 'cogadt', 'cogtad', 'cogtda', 'cogdat', 'cogdta', 'cgatdo', 'cgatod', 'cgadto', 'cgadot', 'cgaotd', 'cgaodt', 'cgtado', 'cgtaod', 'cgtdao', 'cgtdoa', 'cgtoad', 'cgtoda', 'cgdato', 'cgdaot', 'cgdtao', 'cgdtoa', 'cgdoat', 'cgdota', 'cgoatd', 'cgoadt', 'cgotad', 'cgotda', 'cgodat', 'cgodta', 'actdog', 'actdgo', 'actodg', 'actogd', 'actgdo', 'actgod', 'acdtog', 'acdtgo', 'acdotg', 'acdogt', 'acdgto', 'acdgot', 'acotdg', 'acotgd', 'acodtg', 'acodgt', 'acogtd', 'acogdt', 'acgtdo', 'acgtod', 'acgdto', 'acgdot', 'acgotd', 'acgodt', 'atcdog', 'atcdgo', 'atcodg', 'atcogd', 'atcgdo', 'atcgod', 'atdcog', 'atdcgo', 'atdocg', 'atdogc', 'atdgco', 'atdgoc', 'atocdg', 'atocgd', 'atodcg', 'atodgc', 'atogcd', 'atogdc', 'atgcdo', 'atgcod', 'atgdco', 'atgdoc', 'atgocd', 'atgodc', 'adctog', 'adctgo', 'adcotg', 'adcogt', 'adcgto', 'adcgot', 'adtcog', 'adtcgo', 'adtocg', 'adtogc', 'adtgco', 'adtgoc', 'adoctg', 'adocgt', 'adotcg', 'adotgc', 'adogct', 'adogtc', 'adgcto', 'adgcot', 'adgtco', 'adgtoc', 'adgoct', 'adgotc', 'aoctdg', 'aoctgd', 'aocdtg', 'aocdgt', 'aocgtd', 'aocgdt', 'aotcdg', 'aotcgd', 'aotdcg', 'aotdgc', 'aotgcd', 'aotgdc', 'aodctg', 'aodcgt', 'aodtcg', 'aodtgc', 'aodgct', 'aodgtc', 'aogctd', 'aogcdt', 'aogtcd', 'aogtdc', 'aogdct', 'aogdtc', 'agctdo', 'agctod', 'agcdto', 'agcdot', 'agcotd', 'agcodt', 'agtcdo', 'agtcod', 'agtdco', 'agtdoc', 'agtocd', 'agtodc', 'agdcto', 'agdcot', 'agdtco', 'agdtoc', 'agdoct', 'agdotc', 'agoctd', 'agocdt', 'agotcd', 'agotdc', 'agodct', 'agodtc', 'tcadog', 'tcadgo', 'tcaodg', 'tcaogd', 'tcagdo', 'tcagod', 'tcdaog', 'tcdago', 'tcdoag', 'tcdoga', 'tcdgao', 'tcdgoa', 'tcoadg', 'tcoagd', 'tcodag', 'tcodga', 'tcogad', 'tcogda', 'tcgado', 'tcgaod', 'tcgdao', 'tcgdoa', 'tcgoad', 'tcgoda', 'tacdog', 'tacdgo', 'tacodg', 'tacogd', 'tacgdo', 'tacgod', 'tadcog', 'tadcgo', 'tadocg', 'tadogc', 'tadgco', 'tadgoc', 'taocdg', 'taocgd', 'taodcg', 'taodgc', 'taogcd', 'taogdc', 'tagcdo', 'tagcod', 'tagdco', 'tagdoc', 'tagocd', 'tagodc', 'tdcaog', 'tdcago', 'tdcoag', 'tdcoga', 'tdcgao', 'tdcgoa', 'tdacog', 'tdacgo', 'tdaocg', 'tdaogc', 'tdagco', 'tdagoc', 'tdocag', 'tdocga', 'tdoacg', 'tdoagc', 'tdogca', 'tdogac', 'tdgcao', 'tdgcoa', 'tdgaco', 'tdgaoc', 'tdgoca', 'tdgoac', 'tocadg', 'tocagd', 'tocdag', 'tocdga', 'tocgad', 'tocgda', 'toacdg', 'toacgd', 'toadcg', 'toadgc', 'toagcd', 'toagdc', 'todcag', 'todcga', 'todacg', 'todagc', 'todgca', 'todgac', 'togcad', 'togcda', 'togacd', 'togadc', 'togdca', 'togdac', 'tgcado', 'tgcaod', 'tgcdao', 'tgcdoa', 'tgcoad', 'tgcoda', 'tgacdo', 'tgacod', 'tgadco', 'tgadoc', 'tgaocd', 'tgaodc', 'tgdcao', 'tgdcoa', 'tgdaco', 'tgdaoc', 'tgdoca', 'tgdoac', 'tgocad', 'tgocda', 'tgoacd', 'tgoadc', 'tgodca', 'tgodac', 'dcatog', 'dcatgo', 'dcaotg', 'dcaogt', 'dcagto', 'dcagot', 'dctaog', 'dctago', 'dctoag', 'dctoga', 'dctgao', 'dctgoa', 'dcoatg', 'dcoagt', 'dcotag', 'dcotga', 'dcogat', 'dcogta', 'dcgato', 'dcgaot', 'dcgtao', 'dcgtoa', 'dcgoat', 'dcgota', 'dactog', 'dactgo', 'dacotg', 'dacogt', 'dacgto', 'dacgot', 'datcog', 'datcgo', 'datocg', 'datogc', 'datgco', 'datgoc', 'daoctg', 'daocgt', 'daotcg', 'daotgc', 'daogct', 'daogtc', 'dagcto', 'dagcot', 'dagtco', 'dagtoc', 'dagoct', 'dagotc', 'dtcaog', 'dtcago', 'dtcoag', 'dtcoga', 'dtcgao', 'dtcgoa', 'dtacog', 'dtacgo', 'dtaocg', 'dtaogc', 'dtagco', 'dtagoc', 'dtocag', 'dtocga', 'dtoacg', 'dtoagc', 'dtogca', 'dtogac', 'dtgcao', 'dtgcoa', 'dtgaco', 'dtgaoc', 'dtgoca', 'dtgoac', 'docatg', 'docagt', 'doctag', 'doctga', 'docgat', 'docgta', 'doactg', 'doacgt', 'doatcg', 'doatgc', 'doagct', 'doagtc', 'dotcag', 'dotcga', 'dotacg', 'dotagc', 'dotgca', 'dotgac', 'dogcat', 'dogcta', 'dogact', 'dogatc', 'dogtca', 'dogtac', 'dgcato', 'dgcaot', 'dgctao', 'dgctoa', 'dgcoat', 'dgcota', 'dgacto', 'dgacot', 'dgatco', 'dgatoc', 'dgaoct', 'dgaotc', 'dgtcao', 'dgtcoa', 'dgtaco', 'dgtaoc', 'dgtoca', 'dgtoac', 'dgocat', 'dgocta', 'dgoact', 'dgoatc', 'dgotca', 'dgotac', 'ocatdg', 'ocatgd', 'ocadtg', 'ocadgt', 'ocagtd', 'ocagdt', 'octadg', 'octagd', 'octdag', 'octdga', 'octgad', 'octgda', 'ocdatg', 'ocdagt', 'ocdtag', 'ocdtga', 'ocdgat', 'ocdgta', 'ocgatd', 'ocgadt', 'ocgtad', 'ocgtda', 'ocgdat', 'ocgdta', 'oactdg', 'oactgd', 'oacdtg', 'oacdgt', 'oacgtd', 'oacgdt', 'oatcdg', 'oatcgd', 'oatdcg', 'oatdgc', 'oatgcd', 'oatgdc', 'oadctg', 'oadcgt', 'oadtcg', 'oadtgc', 'oadgct', 'oadgtc', 'oagctd', 'oagcdt', 'oagtcd', 'oagtdc', 'oagdct', 'oagdtc', 'otcadg', 'otcagd', 'otcdag', 'otcdga', 'otcgad', 'otcgda', 'otacdg', 'otacgd', 'otadcg', 'otadgc', 'otagcd', 'otagdc', 'otdcag', 'otdcga', 'otdacg', 'otdagc', 'otdgca', 'otdgac', 'otgcad', 'otgcda', 'otgacd', 'otgadc', 'otgdca', 'otgdac', 'odcatg', 'odcagt', 'odctag', 'odctga', 'odcgat', 'odcgta', 'odactg', 'odacgt', 'odatcg', 'odatgc', 'odagct', 'odagtc', 'odtcag', 'odtcga', 'odtacg', 'odtagc', 'odtgca', 'odtgac', 'odgcat', 'odgcta', 'odgact', 'odgatc', 'odgtca', 'odgtac', 'ogcatd', 'ogcadt', 'ogctad', 'ogctda', 'ogcdat', 'ogcdta', 'ogactd', 'ogacdt', 'ogatcd', 'ogatdc', 'ogadct', 'ogadtc', 'ogtcad', 'ogtcda', 'ogtacd', 'ogtadc', 'ogtdca', 'ogtdac', 'ogdcat', 'ogdcta', 'ogdact', 'ogdatc', 'ogdtca', 'ogdtac', 'gcatdo', 'gcatod', 'gcadto', 'gcadot', 'gcaotd', 'gcaodt', 'gctado', 'gctaod', 'gctdao', 'gctdoa', 'gctoad', 'gctoda', 'gcdato', 'gcdaot', 'gcdtao', 'gcdtoa', 'gcdoat', 'gcdota', 'gcoatd', 'gcoadt', 'gcotad', 'gcotda', 'gcodat', 'gcodta', 'gactdo', 'gactod', 'gacdto', 'gacdot', 'gacotd', 'gacodt', 'gatcdo', 'gatcod', 'gatdco', 'gatdoc', 'gatocd', 'gatodc', 'gadcto', 'gadcot', 'gadtco', 'gadtoc', 'gadoct', 'gadotc', 'gaoctd', 'gaocdt', 'gaotcd', 'gaotdc', 'gaodct', 'gaodtc', 'gtcado', 'gtcaod', 'gtcdao', 'gtcdoa', 'gtcoad', 'gtcoda', 'gtacdo', 'gtacod', 'gtadco', 'gtadoc', 'gtaocd', 'gtaodc', 'gtdcao', 'gtdcoa', 'gtdaco', 'gtdaoc', 'gtdoca', 'gtdoac', 'gtocad', 'gtocda', 'gtoacd', 'gtoadc', 'gtodca', 'gtodac', 'gdcato', 'gdcaot', 'gdctao', 'gdctoa', 'gdcoat', 'gdcota', 'gdacto', 'gdacot', 'gdatco', 'gdatoc', 'gdaoct', 'gdaotc', 'gdtcao', 'gdtcoa', 'gdtaco', 'gdtaoc', 'gdtoca', 'gdtoac', 'gdocat', 'gdocta', 'gdoact', 'gdoatc', 'gdotca', 'gdotac', 'gocatd', 'gocadt', 'goctad', 'goctda', 'gocdat', 'gocdta', 'goactd', 'goacdt', 'goatcd', 'goatdc', 'goadct', 'goadtc', 'gotcad', 'gotcda', 'gotacd', 'gotadc', 'gotdca', 'gotdac', 'godcat', 'godcta', 'godact', 'godatc', 'godtca', 'godtac']\n"
     ]
    }
   ],
   "source": [
    "#  P-1.29 Write a Python program that outputs all possible strings formed by using\n",
    "#  the characters c , a , t , d , o ,and g exactly once.\n",
    "\n",
    "def all_possible_strings(s):\n",
    "    from itertools import permutations\n",
    "    return [''.join(i) for i in permutations(s)]\n",
    "\n",
    "print(all_possible_strings('catdog'))"
   ]
  },
  {
   "cell_type": "markdown",
   "metadata": {},
   "source": [
    "### Problem 6.3"
   ]
  },
  {
   "cell_type": "markdown",
   "metadata": {},
   "source": [
    "Consider a circle inscribed in a unit square. Given that the circle and the square have a ratio of areas<br>\n",
    "that is `pi/4`, the value of `pi` can be approximated using a Monte Carlo method:\n",
    "1. Draw a square, then inscribe a circle within it.\n",
    "2. Uniformly scatter objects of uniform size over the square.\n",
    "3. Count the number of objects inside the circle and the total number of objects.\n",
    "4. The ratio of the two counts is an estimate of the ratio of the two areas, which is `pi/4`. <br>Multiply the\n",
    "result by 4 to estimate `pi`.\n",
    "\n",
    "Implement this Monte Carlo method and run it for a varying number (e.g. 100, 1000, 10_000, 100_000, <br>\n",
    "...) of objects. Compare your results to the actual value of π (math.pi)."
   ]
  },
  {
   "cell_type": "code",
   "execution_count": 46,
   "metadata": {},
   "outputs": [
    {
     "name": "stdout",
     "output_type": "stream",
     "text": [
      "3.142458\n"
     ]
    }
   ],
   "source": [
    "import random\n",
    "import math\n",
    "\n",
    "def estimate_pi(n):\n",
    "    count = 0\n",
    "    for _ in range(n):\n",
    "        x = random.uniform(0, 1)\n",
    "        y = random.uniform(0, 1)\n",
    "        if math.sqrt(x ** 2 + y ** 2) < 1:\n",
    "            count += 1\n",
    "    return 4 * count / n\n",
    "\n",
    "print(estimate_pi(10_000_000))"
   ]
  },
  {
   "cell_type": "code",
   "execution_count": null,
   "metadata": {},
   "outputs": [],
   "source": []
  }
 ],
 "metadata": {
  "kernelspec": {
   "display_name": "Python 3",
   "language": "python",
   "name": "python3"
  },
  "language_info": {
   "codemirror_mode": {
    "name": "ipython",
    "version": 3
   },
   "file_extension": ".py",
   "mimetype": "text/x-python",
   "name": "python",
   "nbconvert_exporter": "python",
   "pygments_lexer": "ipython3",
   "version": "3.12.3"
  }
 },
 "nbformat": 4,
 "nbformat_minor": 2
}
